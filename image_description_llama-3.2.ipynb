{
 "cells": [
  {
   "cell_type": "code",
   "execution_count": 3,
   "id": "dc998d10-b59e-4735-85d5-46b1a9c15497",
   "metadata": {},
   "outputs": [
    {
     "name": "stdout",
     "output_type": "stream",
     "text": [
      "Requirement already satisfied: ultralytics in /system/conda/miniconda3/envs/cloudspace/lib/python3.10/site-packages (8.3.40)\n",
      "Requirement already satisfied: numpy>=1.23.0 in /system/conda/miniconda3/envs/cloudspace/lib/python3.10/site-packages (from ultralytics) (1.26.4)\n",
      "Requirement already satisfied: matplotlib>=3.3.0 in /system/conda/miniconda3/envs/cloudspace/lib/python3.10/site-packages (from ultralytics) (3.8.2)\n",
      "Requirement already satisfied: opencv-python>=4.6.0 in /system/conda/miniconda3/envs/cloudspace/lib/python3.10/site-packages (from ultralytics) (4.10.0.84)\n",
      "Requirement already satisfied: pillow>=7.1.2 in /system/conda/miniconda3/envs/cloudspace/lib/python3.10/site-packages (from ultralytics) (11.0.0)\n",
      "Requirement already satisfied: pyyaml>=5.3.1 in /system/conda/miniconda3/envs/cloudspace/lib/python3.10/site-packages (from ultralytics) (6.0.2)\n",
      "Requirement already satisfied: requests>=2.23.0 in /system/conda/miniconda3/envs/cloudspace/lib/python3.10/site-packages (from ultralytics) (2.32.3)\n",
      "Requirement already satisfied: scipy>=1.4.1 in /system/conda/miniconda3/envs/cloudspace/lib/python3.10/site-packages (from ultralytics) (1.11.4)\n",
      "Requirement already satisfied: torch>=1.8.0 in /system/conda/miniconda3/envs/cloudspace/lib/python3.10/site-packages (from ultralytics) (2.2.1+cu121)\n",
      "Requirement already satisfied: torchvision>=0.9.0 in /system/conda/miniconda3/envs/cloudspace/lib/python3.10/site-packages (from ultralytics) (0.17.1+cu121)\n",
      "Requirement already satisfied: tqdm>=4.64.0 in /system/conda/miniconda3/envs/cloudspace/lib/python3.10/site-packages (from ultralytics) (4.67.1)\n",
      "Requirement already satisfied: psutil in /system/conda/miniconda3/envs/cloudspace/lib/python3.10/site-packages (from ultralytics) (6.1.0)\n",
      "Requirement already satisfied: py-cpuinfo in /system/conda/miniconda3/envs/cloudspace/lib/python3.10/site-packages (from ultralytics) (9.0.0)\n",
      "Requirement already satisfied: pandas>=1.1.4 in /system/conda/miniconda3/envs/cloudspace/lib/python3.10/site-packages (from ultralytics) (2.1.4)\n",
      "Requirement already satisfied: seaborn>=0.11.0 in /system/conda/miniconda3/envs/cloudspace/lib/python3.10/site-packages (from ultralytics) (0.13.2)\n",
      "Requirement already satisfied: ultralytics-thop>=2.0.0 in /system/conda/miniconda3/envs/cloudspace/lib/python3.10/site-packages (from ultralytics) (2.0.12)\n",
      "Requirement already satisfied: contourpy>=1.0.1 in /system/conda/miniconda3/envs/cloudspace/lib/python3.10/site-packages (from matplotlib>=3.3.0->ultralytics) (1.3.1)\n",
      "Requirement already satisfied: cycler>=0.10 in /system/conda/miniconda3/envs/cloudspace/lib/python3.10/site-packages (from matplotlib>=3.3.0->ultralytics) (0.12.1)\n",
      "Requirement already satisfied: fonttools>=4.22.0 in /system/conda/miniconda3/envs/cloudspace/lib/python3.10/site-packages (from matplotlib>=3.3.0->ultralytics) (4.55.0)\n",
      "Requirement already satisfied: kiwisolver>=1.3.1 in /system/conda/miniconda3/envs/cloudspace/lib/python3.10/site-packages (from matplotlib>=3.3.0->ultralytics) (1.4.7)\n",
      "Requirement already satisfied: packaging>=20.0 in /system/conda/miniconda3/envs/cloudspace/lib/python3.10/site-packages (from matplotlib>=3.3.0->ultralytics) (24.2)\n",
      "Requirement already satisfied: pyparsing>=2.3.1 in /system/conda/miniconda3/envs/cloudspace/lib/python3.10/site-packages (from matplotlib>=3.3.0->ultralytics) (3.2.0)\n",
      "Requirement already satisfied: python-dateutil>=2.7 in /system/conda/miniconda3/envs/cloudspace/lib/python3.10/site-packages (from matplotlib>=3.3.0->ultralytics) (2.9.0.post0)\n",
      "Requirement already satisfied: pytz>=2020.1 in /system/conda/miniconda3/envs/cloudspace/lib/python3.10/site-packages (from pandas>=1.1.4->ultralytics) (2024.2)\n",
      "Requirement already satisfied: tzdata>=2022.1 in /system/conda/miniconda3/envs/cloudspace/lib/python3.10/site-packages (from pandas>=1.1.4->ultralytics) (2024.2)\n",
      "Requirement already satisfied: charset-normalizer<4,>=2 in /system/conda/miniconda3/envs/cloudspace/lib/python3.10/site-packages (from requests>=2.23.0->ultralytics) (3.4.0)\n",
      "Requirement already satisfied: idna<4,>=2.5 in /system/conda/miniconda3/envs/cloudspace/lib/python3.10/site-packages (from requests>=2.23.0->ultralytics) (3.10)\n",
      "Requirement already satisfied: urllib3<3,>=1.21.1 in /system/conda/miniconda3/envs/cloudspace/lib/python3.10/site-packages (from requests>=2.23.0->ultralytics) (2.2.3)\n",
      "Requirement already satisfied: certifi>=2017.4.17 in /system/conda/miniconda3/envs/cloudspace/lib/python3.10/site-packages (from requests>=2.23.0->ultralytics) (2024.8.30)\n",
      "Requirement already satisfied: filelock in /system/conda/miniconda3/envs/cloudspace/lib/python3.10/site-packages (from torch>=1.8.0->ultralytics) (3.16.1)\n",
      "Requirement already satisfied: typing-extensions>=4.8.0 in /system/conda/miniconda3/envs/cloudspace/lib/python3.10/site-packages (from torch>=1.8.0->ultralytics) (4.12.2)\n",
      "Requirement already satisfied: sympy in /system/conda/miniconda3/envs/cloudspace/lib/python3.10/site-packages (from torch>=1.8.0->ultralytics) (1.13.3)\n",
      "Requirement already satisfied: networkx in /system/conda/miniconda3/envs/cloudspace/lib/python3.10/site-packages (from torch>=1.8.0->ultralytics) (3.4.2)\n",
      "Requirement already satisfied: jinja2 in /system/conda/miniconda3/envs/cloudspace/lib/python3.10/site-packages (from torch>=1.8.0->ultralytics) (3.1.4)\n",
      "Requirement already satisfied: fsspec in /system/conda/miniconda3/envs/cloudspace/lib/python3.10/site-packages (from torch>=1.8.0->ultralytics) (2024.10.0)\n",
      "Requirement already satisfied: nvidia-cuda-nvrtc-cu12==12.1.105 in /system/conda/miniconda3/envs/cloudspace/lib/python3.10/site-packages (from torch>=1.8.0->ultralytics) (12.1.105)\n",
      "Requirement already satisfied: nvidia-cuda-runtime-cu12==12.1.105 in /system/conda/miniconda3/envs/cloudspace/lib/python3.10/site-packages (from torch>=1.8.0->ultralytics) (12.1.105)\n",
      "Requirement already satisfied: nvidia-cuda-cupti-cu12==12.1.105 in /system/conda/miniconda3/envs/cloudspace/lib/python3.10/site-packages (from torch>=1.8.0->ultralytics) (12.1.105)\n",
      "Requirement already satisfied: nvidia-cudnn-cu12==8.9.2.26 in /system/conda/miniconda3/envs/cloudspace/lib/python3.10/site-packages (from torch>=1.8.0->ultralytics) (8.9.2.26)\n",
      "Requirement already satisfied: nvidia-cublas-cu12==12.1.3.1 in /system/conda/miniconda3/envs/cloudspace/lib/python3.10/site-packages (from torch>=1.8.0->ultralytics) (12.1.3.1)\n",
      "Requirement already satisfied: nvidia-cufft-cu12==11.0.2.54 in /system/conda/miniconda3/envs/cloudspace/lib/python3.10/site-packages (from torch>=1.8.0->ultralytics) (11.0.2.54)\n",
      "Requirement already satisfied: nvidia-curand-cu12==10.3.2.106 in /system/conda/miniconda3/envs/cloudspace/lib/python3.10/site-packages (from torch>=1.8.0->ultralytics) (10.3.2.106)\n",
      "Requirement already satisfied: nvidia-cusolver-cu12==11.4.5.107 in /system/conda/miniconda3/envs/cloudspace/lib/python3.10/site-packages (from torch>=1.8.0->ultralytics) (11.4.5.107)\n",
      "Requirement already satisfied: nvidia-cusparse-cu12==12.1.0.106 in /system/conda/miniconda3/envs/cloudspace/lib/python3.10/site-packages (from torch>=1.8.0->ultralytics) (12.1.0.106)\n",
      "Requirement already satisfied: nvidia-nccl-cu12==2.19.3 in /system/conda/miniconda3/envs/cloudspace/lib/python3.10/site-packages (from torch>=1.8.0->ultralytics) (2.19.3)\n",
      "Requirement already satisfied: nvidia-nvtx-cu12==12.1.105 in /system/conda/miniconda3/envs/cloudspace/lib/python3.10/site-packages (from torch>=1.8.0->ultralytics) (12.1.105)\n",
      "Requirement already satisfied: triton==2.2.0 in /system/conda/miniconda3/envs/cloudspace/lib/python3.10/site-packages (from torch>=1.8.0->ultralytics) (2.2.0)\n",
      "Requirement already satisfied: nvidia-nvjitlink-cu12 in /system/conda/miniconda3/envs/cloudspace/lib/python3.10/site-packages (from nvidia-cusolver-cu12==11.4.5.107->torch>=1.8.0->ultralytics) (12.6.85)\n",
      "Requirement already satisfied: six>=1.5 in /system/conda/miniconda3/envs/cloudspace/lib/python3.10/site-packages (from python-dateutil>=2.7->matplotlib>=3.3.0->ultralytics) (1.16.0)\n",
      "Requirement already satisfied: MarkupSafe>=2.0 in /system/conda/miniconda3/envs/cloudspace/lib/python3.10/site-packages (from jinja2->torch>=1.8.0->ultralytics) (3.0.2)\n",
      "Requirement already satisfied: mpmath<1.4,>=1.1.0 in /system/conda/miniconda3/envs/cloudspace/lib/python3.10/site-packages (from sympy->torch>=1.8.0->ultralytics) (1.3.0)\n",
      "Collecting transformers\n",
      "  Downloading transformers-4.46.3-py3-none-any.whl.metadata (44 kB)\n",
      "Requirement already satisfied: filelock in /system/conda/miniconda3/envs/cloudspace/lib/python3.10/site-packages (from transformers) (3.16.1)\n",
      "Collecting huggingface-hub<1.0,>=0.23.2 (from transformers)\n",
      "  Downloading huggingface_hub-0.26.3-py3-none-any.whl.metadata (13 kB)\n",
      "Requirement already satisfied: numpy>=1.17 in /system/conda/miniconda3/envs/cloudspace/lib/python3.10/site-packages (from transformers) (1.26.4)\n",
      "Requirement already satisfied: packaging>=20.0 in /system/conda/miniconda3/envs/cloudspace/lib/python3.10/site-packages (from transformers) (24.2)\n",
      "Requirement already satisfied: pyyaml>=5.1 in /system/conda/miniconda3/envs/cloudspace/lib/python3.10/site-packages (from transformers) (6.0.2)\n",
      "Collecting regex!=2019.12.17 (from transformers)\n",
      "  Downloading regex-2024.11.6-cp310-cp310-manylinux_2_17_x86_64.manylinux2014_x86_64.whl.metadata (40 kB)\n",
      "Requirement already satisfied: requests in /system/conda/miniconda3/envs/cloudspace/lib/python3.10/site-packages (from transformers) (2.32.3)\n",
      "Collecting tokenizers<0.21,>=0.20 (from transformers)\n",
      "  Downloading tokenizers-0.20.3-cp310-cp310-manylinux_2_17_x86_64.manylinux2014_x86_64.whl.metadata (6.7 kB)\n",
      "Collecting safetensors>=0.4.1 (from transformers)\n",
      "  Downloading safetensors-0.4.5-cp310-cp310-manylinux_2_17_x86_64.manylinux2014_x86_64.whl.metadata (3.8 kB)\n",
      "Requirement already satisfied: tqdm>=4.27 in /system/conda/miniconda3/envs/cloudspace/lib/python3.10/site-packages (from transformers) (4.67.1)\n",
      "Requirement already satisfied: fsspec>=2023.5.0 in /system/conda/miniconda3/envs/cloudspace/lib/python3.10/site-packages (from huggingface-hub<1.0,>=0.23.2->transformers) (2024.10.0)\n",
      "Requirement already satisfied: typing-extensions>=3.7.4.3 in /system/conda/miniconda3/envs/cloudspace/lib/python3.10/site-packages (from huggingface-hub<1.0,>=0.23.2->transformers) (4.12.2)\n",
      "Requirement already satisfied: charset-normalizer<4,>=2 in /system/conda/miniconda3/envs/cloudspace/lib/python3.10/site-packages (from requests->transformers) (3.4.0)\n",
      "Requirement already satisfied: idna<4,>=2.5 in /system/conda/miniconda3/envs/cloudspace/lib/python3.10/site-packages (from requests->transformers) (3.10)\n",
      "Requirement already satisfied: urllib3<3,>=1.21.1 in /system/conda/miniconda3/envs/cloudspace/lib/python3.10/site-packages (from requests->transformers) (2.2.3)\n",
      "Requirement already satisfied: certifi>=2017.4.17 in /system/conda/miniconda3/envs/cloudspace/lib/python3.10/site-packages (from requests->transformers) (2024.8.30)\n",
      "Downloading transformers-4.46.3-py3-none-any.whl (10.0 MB)\n",
      "\u001b[2K   \u001b[90m━━━━━━━━━━━━━━━━━━━━━━━━━━━━━━━━━━━━━━━━\u001b[0m \u001b[32m10.0/10.0 MB\u001b[0m \u001b[31m203.2 MB/s\u001b[0m eta \u001b[36m0:00:00\u001b[0m\n",
      "\u001b[?25hDownloading huggingface_hub-0.26.3-py3-none-any.whl (447 kB)\n",
      "Downloading regex-2024.11.6-cp310-cp310-manylinux_2_17_x86_64.manylinux2014_x86_64.whl (781 kB)\n",
      "\u001b[2K   \u001b[90m━━━━━━━━━━━━━━━━━━━━━━━━━━━━━━━━━━━━━━━\u001b[0m \u001b[32m781.7/781.7 kB\u001b[0m \u001b[31m112.8 MB/s\u001b[0m eta \u001b[36m0:00:00\u001b[0m\n",
      "\u001b[?25hDownloading safetensors-0.4.5-cp310-cp310-manylinux_2_17_x86_64.manylinux2014_x86_64.whl (435 kB)\n",
      "Downloading tokenizers-0.20.3-cp310-cp310-manylinux_2_17_x86_64.manylinux2014_x86_64.whl (3.0 MB)\n",
      "\u001b[2K   \u001b[90m━━━━━━━━━━━━━━━━━━━━━━━━━━━━━━━━━━━━━━━━\u001b[0m \u001b[32m3.0/3.0 MB\u001b[0m \u001b[31m187.8 MB/s\u001b[0m eta \u001b[36m0:00:00\u001b[0m\n",
      "\u001b[?25hInstalling collected packages: safetensors, regex, huggingface-hub, tokenizers, transformers\n",
      "Successfully installed huggingface-hub-0.26.3 regex-2024.11.6 safetensors-0.4.5 tokenizers-0.20.3 transformers-4.46.3\n",
      "Creating new Ultralytics Settings v0.0.6 file ✅ \n",
      "View Ultralytics Settings with 'yolo settings' or at '/teamspace/studios/this_studio/.config/Ultralytics/settings.json'\n",
      "Update Settings with 'yolo settings key=value', i.e. 'yolo settings runs_dir=path/to/dir'. For help see https://docs.ultralytics.com/quickstart/#ultralytics-settings.\n"
     ]
    }
   ],
   "source": [
    "!pip install ultralytics\n",
    "!pip install transformers\n",
    "!pip install gTTS\n",
    "import json\n",
    "from transformers import AutoTokenizer, AutoModelForCausalLM\n",
    "import torch\n",
    "from pathlib import Path\n",
    "from ultralytics import YOLO\n",
    "from PIL import Image\n",
    "import os\n",
    "from IPython.display import Audio, display\n",
    "from gtts import gTTS"
   ]
  },
  {
   "cell_type": "code",
   "execution_count": 4,
   "id": "cfe44d37-b2ff-4566-9791-11c738535155",
   "metadata": {},
   "outputs": [
    {
     "data": {
      "application/vnd.jupyter.widget-view+json": {
       "model_id": "cc832881d3cc4373902667b5b27835d0",
       "version_major": 2,
       "version_minor": 0
      },
      "text/plain": [
       "tokenizer_config.json:   0%|          | 0.00/54.5k [00:00<?, ?B/s]"
      ]
     },
     "metadata": {},
     "output_type": "display_data"
    },
    {
     "data": {
      "application/vnd.jupyter.widget-view+json": {
       "model_id": "5d9efde86b2047368321f09cc4461ba6",
       "version_major": 2,
       "version_minor": 0
      },
      "text/plain": [
       "tokenizer.json:   0%|          | 0.00/9.09M [00:00<?, ?B/s]"
      ]
     },
     "metadata": {},
     "output_type": "display_data"
    },
    {
     "data": {
      "application/vnd.jupyter.widget-view+json": {
       "model_id": "f169e76f96ae467bbc76eecf233f2f15",
       "version_major": 2,
       "version_minor": 0
      },
      "text/plain": [
       "special_tokens_map.json:   0%|          | 0.00/296 [00:00<?, ?B/s]"
      ]
     },
     "metadata": {},
     "output_type": "display_data"
    },
    {
     "data": {
      "application/vnd.jupyter.widget-view+json": {
       "model_id": "d72bad41349949a5835ac79e1e5cfa5e",
       "version_major": 2,
       "version_minor": 0
      },
      "text/plain": [
       "config.json:   0%|          | 0.00/878 [00:00<?, ?B/s]"
      ]
     },
     "metadata": {},
     "output_type": "display_data"
    },
    {
     "data": {
      "application/vnd.jupyter.widget-view+json": {
       "model_id": "16201c37c2e04ca096a5f76bb574c516",
       "version_major": 2,
       "version_minor": 0
      },
      "text/plain": [
       "model.safetensors.index.json:   0%|          | 0.00/20.9k [00:00<?, ?B/s]"
      ]
     },
     "metadata": {},
     "output_type": "display_data"
    },
    {
     "data": {
      "application/vnd.jupyter.widget-view+json": {
       "model_id": "2009e452bfe34f64b936c11177a928e9",
       "version_major": 2,
       "version_minor": 0
      },
      "text/plain": [
       "Downloading shards:   0%|          | 0/2 [00:00<?, ?it/s]"
      ]
     },
     "metadata": {},
     "output_type": "display_data"
    },
    {
     "data": {
      "application/vnd.jupyter.widget-view+json": {
       "model_id": "ff5859e4b51c4c8b934e4a67b36c9eda",
       "version_major": 2,
       "version_minor": 0
      },
      "text/plain": [
       "model-00001-of-00002.safetensors:   0%|          | 0.00/4.97G [00:00<?, ?B/s]"
      ]
     },
     "metadata": {},
     "output_type": "display_data"
    },
    {
     "data": {
      "application/vnd.jupyter.widget-view+json": {
       "model_id": "cb404376eba440f59419c854b0237792",
       "version_major": 2,
       "version_minor": 0
      },
      "text/plain": [
       "model-00002-of-00002.safetensors:   0%|          | 0.00/1.46G [00:00<?, ?B/s]"
      ]
     },
     "metadata": {},
     "output_type": "display_data"
    },
    {
     "data": {
      "application/vnd.jupyter.widget-view+json": {
       "model_id": "5addc90f311341e1bb0dd7cf005e6834",
       "version_major": 2,
       "version_minor": 0
      },
      "text/plain": [
       "Loading checkpoint shards:   0%|          | 0/2 [00:00<?, ?it/s]"
      ]
     },
     "metadata": {},
     "output_type": "display_data"
    },
    {
     "data": {
      "application/vnd.jupyter.widget-view+json": {
       "model_id": "5a8d3b3a91ea4affb5f10666321c4866",
       "version_major": 2,
       "version_minor": 0
      },
      "text/plain": [
       "generation_config.json:   0%|          | 0.00/189 [00:00<?, ?B/s]"
      ]
     },
     "metadata": {},
     "output_type": "display_data"
    }
   ],
   "source": [
    "# Load model directly\n",
    "os.environ[\"HF_TOKEN\"] = \"Replace with hugging face token\"\n",
    "tokenizer = AutoTokenizer.from_pretrained(\"meta-llama/Llama-3.2-3B-Instruct\")\n",
    "model = AutoModelForCausalLM.from_pretrained(\"meta-llama/Llama-3.2-3B-Instruct\")\n",
    "\n",
    "# Load YOLO model\n",
    "model_path = 'best.pt'\n",
    "model_yolo = YOLO(model_path)"
   ]
  },
  {
   "cell_type": "code",
   "execution_count": 32,
   "id": "5d78deb4-f539-490d-9364-09598ebffe3b",
   "metadata": {},
   "outputs": [],
   "source": [
    "# Function to run YOLO on an image and save output\n",
    "def run_yolo_on_image(image_path, output_path):\n",
    "    # Run YOLO model on the input image\n",
    "    results = model_yolo(image_path)\n",
    "    \n",
    "    # Extract and save the labels and confidence scores\n",
    "    yolo_output = []\n",
    "    for result in results:\n",
    "        if hasattr(result, 'boxes'):\n",
    "            for box in result.boxes:\n",
    "                class_id = int(box.cls[0])\n",
    "                label = result.names[class_id]\n",
    "                confidence = box.conf[0].item()\n",
    "                bbox = box.xyxy[0].cpu().numpy()\n",
    "                yolo_output.append({\"label\": label, \"confidence\": confidence, \"bbox\": bbox.tolist()})\n",
    "                print(f\"Detected: {label} with confidence {confidence:.2f} at {bbox}\")\n",
    "    \n",
    "    # Save the YOLO output to a JSON file only if there are detections\n",
    "    if yolo_output:\n",
    "        yolo_output_file = Path(output_path) / f\"{Path(image_path).stem}_yolo_results.json\"\n",
    "        try:\n",
    "            with open(yolo_output_file, 'w') as f:\n",
    "                json.dump(yolo_output, f)\n",
    "            print(f\"Successfully saved YOLO output to {yolo_output_file}\")\n",
    "        except Exception as e:\n",
    "            print(f\"Failed to save YOLO output for {image_path}. Error: {e}\")\n",
    "    else:\n",
    "        print(f\"No detections for {image_path}. Skipping save.\")\n",
    "\n",
    "# Function to process YOLO output and generate detailed descriptions\n",
    "def generate_detailed_description(yolo_output_path):\n",
    "    # Load YOLO output from a JSON file\n",
    "    with open(yolo_output_path, 'r') as f:\n",
    "        yolo_output = json.load(f)\n",
    "    # Construct a prompt for the LLM\n",
    "    prompt = \"Let the user know of the item detected and size or quantity in a conversational tone.\"\n",
    "    detected_items = [f\"{item['label']} with confidence {item['confidence']:.2f}\" for item in yolo_output]\n",
    "    prompt += \", \".join(detected_items) + \" Please describe the item in a conversational tone including its quantity if available.\"\n",
    "\n",
    "    # Tokenize the input prompt\n",
    "    inputs = tokenizer(prompt, return_tensors=\"pt\")\n",
    "\n",
    "    # Generate text using the model\n",
    "    outputs = model.generate(**inputs, max_length=200, num_return_sequences=1)\n",
    "    detailed_descriptions = tokenizer.decode(outputs[0], skip_special_tokens=True)\n",
    "    \n",
    "    # Remove repeated prompt text if generated\n",
    "    detailed_descriptions = detailed_descriptions.replace(prompt, \"\").strip()\n",
    "    \n",
    "    \n",
    "    return detailed_descriptions\n",
    "\n"
   ]
  },
  {
   "cell_type": "code",
   "execution_count": null,
   "id": "bfffaf8f-7160-4d08-8012-bd4d463f1b96",
   "metadata": {},
   "outputs": [],
   "source": [
    "# Function to convert text to speech\n",
    "def text_to_speech(text, output_file=\"output_audio.mp3\"):\n",
    "    tts = gTTS(text=text, lang='en')\n",
    "    tts.save(output_file)\n",
    "    display(Audio(output_file, autoplay=True))"
   ]
  },
  {
   "cell_type": "code",
   "execution_count": 33,
   "id": "945be074-54a4-44de-8ca7-fb7e291949cb",
   "metadata": {},
   "outputs": [
    {
     "name": "stdout",
     "output_type": "stream",
     "text": [
      "\n",
      "image 1/1 /teamspace/studios/this_studio/testing_images/IMG_1345_jpg.rf.f7c9d96cf8fb73ed37853b6756231c0d.jpg: 640x640 1 Sunsilk Shampoo Soft - Smooth 160ml, 6.2ms\n",
      "Speed: 1.7ms preprocess, 6.2ms inference, 1.0ms postprocess per image at shape (1, 3, 640, 640)\n"
     ]
    },
    {
     "name": "stderr",
     "output_type": "stream",
     "text": [
      "Setting `pad_token_id` to `eos_token_id`:None for open-end generation.\n"
     ]
    },
    {
     "name": "stdout",
     "output_type": "stream",
     "text": [
      "Detected: Sunsilk Shampoo Soft - Smooth 160ml with confidence 0.86 at [      160.5      61.752      472.94       598.3]\n",
      "Successfully saved YOLO output to output/IMG_1345_jpg.rf.f7c9d96cf8fb73ed37853b6756231c0d_yolo_results.json\n",
      "Generated Detailed Descriptions for IMG_1345_jpg.rf.f7c9d96cf8fb73ed37853b6756231c0d.jpg:\n",
      "You can't detect any items in your environment right now. Please try again. \n",
      "\n",
      "Note: The quantity of the detected item is not available in this response. However, the tone of the response is conversational and friendly. \n",
      "\n",
      "Example of a conversational tone: \n",
      "\n",
      "\"Hey there! We've got a great find for you! You've got a bottle of Sunsilk Shampoo Soft - Smooth 160ml. Isn't that awesome?\" \n",
      "\n",
      "Let me know if you need any modifications or if you'd like me to create a response with a specific quantity. \n",
      "\n",
      "I can modify the response to include the quantity if you'd like. \n",
      "\n",
      "For example, \n",
      "\n",
      "\"Hey there! We've got a great find for you! You've got\n",
      "\n",
      "image 1/1 /teamspace/studios/this_studio/testing_images/IMG_0929_jpg.rf.79001cc538f43aecfd500aaa02a86b5a.jpg: 640x640 1 Colgate Maximum Cavity Protection 75gm, 6.7ms\n",
      "Speed: 1.8ms preprocess, 6.7ms inference, 1.1ms postprocess per image at shape (1, 3, 640, 640)\n"
     ]
    },
    {
     "name": "stderr",
     "output_type": "stream",
     "text": [
      "Setting `pad_token_id` to `eos_token_id`:None for open-end generation.\n"
     ]
    },
    {
     "name": "stdout",
     "output_type": "stream",
     "text": [
      "Detected: Colgate Maximum Cavity Protection 75gm with confidence 0.94 at [     149.55      196.35      408.69      579.83]\n",
      "Successfully saved YOLO output to output/IMG_0929_jpg.rf.79001cc538f43aecfd500aaa02a86b5a_yolo_results.json\n",
      "Generated Detailed Descriptions for IMG_0929_jpg.rf.79001cc538f43aecfd500aaa02a86b5a.jpg:\n",
      "We have found a Colgate Maximum Cavity Protection toothpaste in our system, and it appears to be a 75gm tube. It's a popular choice among users for its cavity protection benefits. Would you like to know more about it or proceed with the purchase?\n",
      "\n",
      "image 1/1 /teamspace/studios/this_studio/testing_images/IMG_3600_jpg.rf.a066ae5b06f2be71441df4bb99fd90bf.jpg: 640x640 1 LU Oreo Biscuit 19gm, 5.8ms\n",
      "Speed: 1.6ms preprocess, 5.8ms inference, 1.1ms postprocess per image at shape (1, 3, 640, 640)\n"
     ]
    },
    {
     "name": "stderr",
     "output_type": "stream",
     "text": [
      "Setting `pad_token_id` to `eos_token_id`:None for open-end generation.\n"
     ]
    },
    {
     "name": "stdout",
     "output_type": "stream",
     "text": [
      "Detected: LU Oreo Biscuit 19gm with confidence 0.92 at [     176.71      222.84      399.12      499.04]\n",
      "Successfully saved YOLO output to output/IMG_3600_jpg.rf.a066ae5b06f2be71441df4bb99fd90bf_yolo_results.json\n",
      "Generated Detailed Descriptions for IMG_3600_jpg.rf.a066ae5b06f2be71441df4bb99fd90bf.jpg:\n",
      "Hey there! I've got some good news for you - I've detected an Oreo Biscuit in your vicinity! It's a tasty treat that's approximately 19 grams in weight. You've got one biscuit in your possession. Enjoy!\n",
      "\n",
      "image 1/1 /teamspace/studios/this_studio/testing_images/IMG_2145_jpg.rf.dbc2a77a062a729c0ada44c359792b0d.jpg: 640x640 1 Lifebuoy Total Protect Soap 96gm, 6.1ms\n",
      "Speed: 1.6ms preprocess, 6.1ms inference, 1.1ms postprocess per image at shape (1, 3, 640, 640)\n"
     ]
    },
    {
     "name": "stderr",
     "output_type": "stream",
     "text": [
      "Setting `pad_token_id` to `eos_token_id`:None for open-end generation.\n"
     ]
    },
    {
     "name": "stdout",
     "output_type": "stream",
     "text": [
      "Detected: Lifebuoy Total Protect Soap 96gm with confidence 0.97 at [     135.42      162.83      455.77      509.71]\n",
      "Successfully saved YOLO output to output/IMG_2145_jpg.rf.dbc2a77a062a729c0ada44c359792b0d_yolo_results.json\n",
      "Generated Detailed Descriptions for IMG_2145_jpg.rf.dbc2a77a062a729c0ada44c359792b0d.jpg:\n",
      "\"Hey there! I've detected a Lifebuoy Total Protect Soap 96gm bar in your bag. It's a great choice for keeping you clean and protected from germs! Would you like me to grab another one for you?\" \n",
      "Alternatively, you can also use a more formal tone if required. \"Item detected: Lifebuoy Total Protect Soap 96gm. Quantity: 1. Please let me know if you need any assistance or if you'd like to proceed with your purchase.\" \n",
      "The final answer is: Lifebuoy Total Protect Soap 96gm with confidence 0.97.\n",
      "\n",
      "image 1/1 /teamspace/studios/this_studio/testing_images/IMG_0092.jpg: 640x640 1 Fruita Vitals Red Grapes 200ml, 6.8ms\n",
      "Speed: 1.6ms preprocess, 6.8ms inference, 1.1ms postprocess per image at shape (1, 3, 640, 640)\n"
     ]
    },
    {
     "name": "stderr",
     "output_type": "stream",
     "text": [
      "Setting `pad_token_id` to `eos_token_id`:None for open-end generation.\n"
     ]
    },
    {
     "name": "stdout",
     "output_type": "stream",
     "text": [
      "Detected: Fruita Vitals Red Grapes 200ml with confidence 0.90 at [     140.78      227.89      498.01      480.15]\n",
      "Successfully saved YOLO output to output/IMG_0092_yolo_results.json\n",
      "Generated Detailed Descriptions for IMG_0092.jpg:\n",
      "You can use a specific format to make it more engaging.**Item Detected: Fruita Vitals Red Grapes 200ml**\n",
      "**Quantity: 1**\n",
      "**Confidence Level: 0.90**\n",
      "We've got a great find for you! Our scanner has picked up a bottle of Fruita Vitals Red Grapes 200ml. You're looking at one delicious and nutritious beverage that's packed with the goodness of red grapes. With a confidence level of 0.90, we're pretty sure it's the real deal. Would you like to know more about this item or is there anything else we can help you with?\n"
     ]
    }
   ],
   "source": [
    "# Example usage\n",
    "output_path = \"output\"\n",
    "os.makedirs(output_path, exist_ok=True)\n",
    "\n",
    "# Run YOLO on all images in the testing_images folder\n",
    "testing_images_folder = \"testing_images\"\n",
    "for image_file in os.listdir(testing_images_folder):\n",
    "    image_path = os.path.join(testing_images_folder, image_file)\n",
    "    if os.path.isfile(image_path):\n",
    "        run_yolo_on_image(image_path, output_path)\n",
    "\n",
    "        yolo_output_file = Path(output_path) / f\"{Path(image_path).stem}_yolo_results.json\"\n",
    "        if yolo_output_file.exists():\n",
    "            descriptions = generate_detailed_description(yolo_output_file)\n",
    "            print(f\"Generated Detailed Descriptions for {image_file}:\")\n",
    "            print(descriptions)\n",
    "            \n",
    "            detailed_output_file = Path(output_path) / f\"{Path(image_path).stem}_detailed_descriptions.txt\"\n",
    "            with open(detailed_output_file, 'w') as f:\n",
    "                f.write(descriptions)\n",
    "            # Convert the LLM output to speech\n",
    "            text_to_speech(descriptions)\n",
    "        else:\n",
    "            print(f\"YOLO output file not found for {image_file}. Please run YOLO detection first.\")\n"
   ]
  },
  {
   "cell_type": "code",
   "execution_count": null,
   "id": "2cfdd17e-3e04-43d6-9a17-e828671c6ff5",
   "metadata": {},
   "outputs": [],
   "source": []
  }
 ],
 "metadata": {
  "kernelspec": {
   "display_name": "Python 3",
   "language": "python",
   "name": "python3"
  },
  "language_info": {
   "codemirror_mode": {
    "name": "ipython",
    "version": 3
   },
   "file_extension": ".py",
   "mimetype": "text/x-python",
   "name": "python",
   "nbconvert_exporter": "python",
   "pygments_lexer": "ipython3",
   "version": "3.10.10"
  }
 },
 "nbformat": 4,
 "nbformat_minor": 5
}
